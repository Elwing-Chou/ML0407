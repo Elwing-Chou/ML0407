{
  "nbformat": 4,
  "nbformat_minor": 0,
  "metadata": {
    "colab": {
      "name": "regression",
      "provenance": [],
      "collapsed_sections": []
    },
    "kernelspec": {
      "name": "python3",
      "display_name": "Python 3"
    }
  },
  "cells": [
    {
      "cell_type": "markdown",
      "metadata": {
        "id": "3xInwHAfhxbA",
        "colab_type": "text"
      },
      "source": [
        "CRIM：人均犯罪率\n",
        "\n",
        "ZN：25,000平方英尺以上民用土地的比例\n",
        "\n",
        "INDUS：城镇非零售业商用土地比例\n",
        "\n",
        "CHAS：是否邻近查尔斯河，1是邻近，0是不邻近\n",
        "\n",
        "NOX：一氧化氮浓度（千万分之一）\n",
        "\n",
        "RM：住宅的平均房间数\n",
        "\n",
        "AGE：自住且建于1940年前的房屋比例\n",
        "\n",
        "DIS：到5个波士顿就业中心的加权距离\n",
        "\n",
        "RAD：到高速公路的便捷度指数\n",
        "\n",
        "TAX：每万元的房产税率\n",
        "\n",
        "PTRATIO：城镇学生教师比例\n",
        "\n",
        "B： 1000(Bk − 0.63)2 其中Bk是城镇中黑人比例\n",
        "\n",
        "LSTAT：低收入人群比例\n",
        "\n",
        "ans：自住房中位数价格，单位是千元"
      ]
    },
    {
      "cell_type": "code",
      "metadata": {
        "id": "NToA3tXLn0j7",
        "colab_type": "code",
        "outputId": "e35e3e28-9227-4a99-ad30-42992141e4ac",
        "colab": {
          "base_uri": "https://localhost:8080/",
          "height": 435
        }
      },
      "source": [
        "import pandas as pd\n",
        "from sklearn.datasets import load_boston\n",
        "boston = load_boston()\n",
        "df = pd.DataFrame(boston[\"data\"],\n",
        "                  columns=boston[\"feature_names\"])\n",
        "df[\"ans\"] = boston[\"target\"]\n",
        "df"
      ],
      "execution_count": 1,
      "outputs": [
        {
          "output_type": "execute_result",
          "data": {
            "text/html": [
              "<div>\n",
              "<style scoped>\n",
              "    .dataframe tbody tr th:only-of-type {\n",
              "        vertical-align: middle;\n",
              "    }\n",
              "\n",
              "    .dataframe tbody tr th {\n",
              "        vertical-align: top;\n",
              "    }\n",
              "\n",
              "    .dataframe thead th {\n",
              "        text-align: right;\n",
              "    }\n",
              "</style>\n",
              "<table border=\"1\" class=\"dataframe\">\n",
              "  <thead>\n",
              "    <tr style=\"text-align: right;\">\n",
              "      <th></th>\n",
              "      <th>CRIM</th>\n",
              "      <th>ZN</th>\n",
              "      <th>INDUS</th>\n",
              "      <th>CHAS</th>\n",
              "      <th>NOX</th>\n",
              "      <th>RM</th>\n",
              "      <th>AGE</th>\n",
              "      <th>DIS</th>\n",
              "      <th>RAD</th>\n",
              "      <th>TAX</th>\n",
              "      <th>PTRATIO</th>\n",
              "      <th>B</th>\n",
              "      <th>LSTAT</th>\n",
              "      <th>ans</th>\n",
              "    </tr>\n",
              "  </thead>\n",
              "  <tbody>\n",
              "    <tr>\n",
              "      <th>0</th>\n",
              "      <td>0.00632</td>\n",
              "      <td>18.0</td>\n",
              "      <td>2.31</td>\n",
              "      <td>0.0</td>\n",
              "      <td>0.538</td>\n",
              "      <td>6.575</td>\n",
              "      <td>65.2</td>\n",
              "      <td>4.0900</td>\n",
              "      <td>1.0</td>\n",
              "      <td>296.0</td>\n",
              "      <td>15.3</td>\n",
              "      <td>396.90</td>\n",
              "      <td>4.98</td>\n",
              "      <td>24.0</td>\n",
              "    </tr>\n",
              "    <tr>\n",
              "      <th>1</th>\n",
              "      <td>0.02731</td>\n",
              "      <td>0.0</td>\n",
              "      <td>7.07</td>\n",
              "      <td>0.0</td>\n",
              "      <td>0.469</td>\n",
              "      <td>6.421</td>\n",
              "      <td>78.9</td>\n",
              "      <td>4.9671</td>\n",
              "      <td>2.0</td>\n",
              "      <td>242.0</td>\n",
              "      <td>17.8</td>\n",
              "      <td>396.90</td>\n",
              "      <td>9.14</td>\n",
              "      <td>21.6</td>\n",
              "    </tr>\n",
              "    <tr>\n",
              "      <th>2</th>\n",
              "      <td>0.02729</td>\n",
              "      <td>0.0</td>\n",
              "      <td>7.07</td>\n",
              "      <td>0.0</td>\n",
              "      <td>0.469</td>\n",
              "      <td>7.185</td>\n",
              "      <td>61.1</td>\n",
              "      <td>4.9671</td>\n",
              "      <td>2.0</td>\n",
              "      <td>242.0</td>\n",
              "      <td>17.8</td>\n",
              "      <td>392.83</td>\n",
              "      <td>4.03</td>\n",
              "      <td>34.7</td>\n",
              "    </tr>\n",
              "    <tr>\n",
              "      <th>3</th>\n",
              "      <td>0.03237</td>\n",
              "      <td>0.0</td>\n",
              "      <td>2.18</td>\n",
              "      <td>0.0</td>\n",
              "      <td>0.458</td>\n",
              "      <td>6.998</td>\n",
              "      <td>45.8</td>\n",
              "      <td>6.0622</td>\n",
              "      <td>3.0</td>\n",
              "      <td>222.0</td>\n",
              "      <td>18.7</td>\n",
              "      <td>394.63</td>\n",
              "      <td>2.94</td>\n",
              "      <td>33.4</td>\n",
              "    </tr>\n",
              "    <tr>\n",
              "      <th>4</th>\n",
              "      <td>0.06905</td>\n",
              "      <td>0.0</td>\n",
              "      <td>2.18</td>\n",
              "      <td>0.0</td>\n",
              "      <td>0.458</td>\n",
              "      <td>7.147</td>\n",
              "      <td>54.2</td>\n",
              "      <td>6.0622</td>\n",
              "      <td>3.0</td>\n",
              "      <td>222.0</td>\n",
              "      <td>18.7</td>\n",
              "      <td>396.90</td>\n",
              "      <td>5.33</td>\n",
              "      <td>36.2</td>\n",
              "    </tr>\n",
              "    <tr>\n",
              "      <th>...</th>\n",
              "      <td>...</td>\n",
              "      <td>...</td>\n",
              "      <td>...</td>\n",
              "      <td>...</td>\n",
              "      <td>...</td>\n",
              "      <td>...</td>\n",
              "      <td>...</td>\n",
              "      <td>...</td>\n",
              "      <td>...</td>\n",
              "      <td>...</td>\n",
              "      <td>...</td>\n",
              "      <td>...</td>\n",
              "      <td>...</td>\n",
              "      <td>...</td>\n",
              "    </tr>\n",
              "    <tr>\n",
              "      <th>501</th>\n",
              "      <td>0.06263</td>\n",
              "      <td>0.0</td>\n",
              "      <td>11.93</td>\n",
              "      <td>0.0</td>\n",
              "      <td>0.573</td>\n",
              "      <td>6.593</td>\n",
              "      <td>69.1</td>\n",
              "      <td>2.4786</td>\n",
              "      <td>1.0</td>\n",
              "      <td>273.0</td>\n",
              "      <td>21.0</td>\n",
              "      <td>391.99</td>\n",
              "      <td>9.67</td>\n",
              "      <td>22.4</td>\n",
              "    </tr>\n",
              "    <tr>\n",
              "      <th>502</th>\n",
              "      <td>0.04527</td>\n",
              "      <td>0.0</td>\n",
              "      <td>11.93</td>\n",
              "      <td>0.0</td>\n",
              "      <td>0.573</td>\n",
              "      <td>6.120</td>\n",
              "      <td>76.7</td>\n",
              "      <td>2.2875</td>\n",
              "      <td>1.0</td>\n",
              "      <td>273.0</td>\n",
              "      <td>21.0</td>\n",
              "      <td>396.90</td>\n",
              "      <td>9.08</td>\n",
              "      <td>20.6</td>\n",
              "    </tr>\n",
              "    <tr>\n",
              "      <th>503</th>\n",
              "      <td>0.06076</td>\n",
              "      <td>0.0</td>\n",
              "      <td>11.93</td>\n",
              "      <td>0.0</td>\n",
              "      <td>0.573</td>\n",
              "      <td>6.976</td>\n",
              "      <td>91.0</td>\n",
              "      <td>2.1675</td>\n",
              "      <td>1.0</td>\n",
              "      <td>273.0</td>\n",
              "      <td>21.0</td>\n",
              "      <td>396.90</td>\n",
              "      <td>5.64</td>\n",
              "      <td>23.9</td>\n",
              "    </tr>\n",
              "    <tr>\n",
              "      <th>504</th>\n",
              "      <td>0.10959</td>\n",
              "      <td>0.0</td>\n",
              "      <td>11.93</td>\n",
              "      <td>0.0</td>\n",
              "      <td>0.573</td>\n",
              "      <td>6.794</td>\n",
              "      <td>89.3</td>\n",
              "      <td>2.3889</td>\n",
              "      <td>1.0</td>\n",
              "      <td>273.0</td>\n",
              "      <td>21.0</td>\n",
              "      <td>393.45</td>\n",
              "      <td>6.48</td>\n",
              "      <td>22.0</td>\n",
              "    </tr>\n",
              "    <tr>\n",
              "      <th>505</th>\n",
              "      <td>0.04741</td>\n",
              "      <td>0.0</td>\n",
              "      <td>11.93</td>\n",
              "      <td>0.0</td>\n",
              "      <td>0.573</td>\n",
              "      <td>6.030</td>\n",
              "      <td>80.8</td>\n",
              "      <td>2.5050</td>\n",
              "      <td>1.0</td>\n",
              "      <td>273.0</td>\n",
              "      <td>21.0</td>\n",
              "      <td>396.90</td>\n",
              "      <td>7.88</td>\n",
              "      <td>11.9</td>\n",
              "    </tr>\n",
              "  </tbody>\n",
              "</table>\n",
              "<p>506 rows × 14 columns</p>\n",
              "</div>"
            ],
            "text/plain": [
              "        CRIM    ZN  INDUS  CHAS    NOX  ...    TAX  PTRATIO       B  LSTAT   ans\n",
              "0    0.00632  18.0   2.31   0.0  0.538  ...  296.0     15.3  396.90   4.98  24.0\n",
              "1    0.02731   0.0   7.07   0.0  0.469  ...  242.0     17.8  396.90   9.14  21.6\n",
              "2    0.02729   0.0   7.07   0.0  0.469  ...  242.0     17.8  392.83   4.03  34.7\n",
              "3    0.03237   0.0   2.18   0.0  0.458  ...  222.0     18.7  394.63   2.94  33.4\n",
              "4    0.06905   0.0   2.18   0.0  0.458  ...  222.0     18.7  396.90   5.33  36.2\n",
              "..       ...   ...    ...   ...    ...  ...    ...      ...     ...    ...   ...\n",
              "501  0.06263   0.0  11.93   0.0  0.573  ...  273.0     21.0  391.99   9.67  22.4\n",
              "502  0.04527   0.0  11.93   0.0  0.573  ...  273.0     21.0  396.90   9.08  20.6\n",
              "503  0.06076   0.0  11.93   0.0  0.573  ...  273.0     21.0  396.90   5.64  23.9\n",
              "504  0.10959   0.0  11.93   0.0  0.573  ...  273.0     21.0  393.45   6.48  22.0\n",
              "505  0.04741   0.0  11.93   0.0  0.573  ...  273.0     21.0  396.90   7.88  11.9\n",
              "\n",
              "[506 rows x 14 columns]"
            ]
          },
          "metadata": {
            "tags": []
          },
          "execution_count": 1
        }
      ]
    },
    {
      "cell_type": "code",
      "metadata": {
        "id": "bRsl7NzrJ6mo",
        "colab_type": "code",
        "colab": {}
      },
      "source": [
        "from sklearn.model_selection import train_test_split\n",
        "# [x_train(90%題目), x_test(10%題目), y_train(90%答案), y_test(10%答案)]\n",
        "x_train, x_test, y_train, y_test = train_test_split(boston[\"data\"],\n",
        "                                                    boston[\"target\"],\n",
        "                                                    test_size=0.1)"
      ],
      "execution_count": 0,
      "outputs": []
    },
    {
      "cell_type": "code",
      "metadata": {
        "id": "kbQDcnGjNaW8",
        "colab_type": "code",
        "outputId": "62214a9b-b745-4c63-832f-b6a3ad0d32c3",
        "colab": {
          "base_uri": "https://localhost:8080/",
          "height": 121
        }
      },
      "source": [
        "from sklearn.tree import DecisionTreeRegressor\n",
        "reg = DecisionTreeRegressor(max_depth=7)\n",
        "reg.fit(x_train, y_train)"
      ],
      "execution_count": 14,
      "outputs": [
        {
          "output_type": "execute_result",
          "data": {
            "text/plain": [
              "DecisionTreeRegressor(ccp_alpha=0.0, criterion='mse', max_depth=7,\n",
              "                      max_features=None, max_leaf_nodes=None,\n",
              "                      min_impurity_decrease=0.0, min_impurity_split=None,\n",
              "                      min_samples_leaf=1, min_samples_split=2,\n",
              "                      min_weight_fraction_leaf=0.0, presort='deprecated',\n",
              "                      random_state=None, splitter='best')"
            ]
          },
          "metadata": {
            "tags": []
          },
          "execution_count": 14
        }
      ]
    },
    {
      "cell_type": "code",
      "metadata": {
        "id": "dRZLwK-8N_v7",
        "colab_type": "code",
        "outputId": "25be3b51-bb00-4416-8768-5d959b4a2167",
        "colab": {
          "base_uri": "https://localhost:8080/",
          "height": 654
        }
      },
      "source": [
        "import graphviz\n",
        "from sklearn.tree import export_graphviz\n",
        "g = export_graphviz(reg, \n",
        "                    feature_names=boston[\"feature_names\"],\n",
        "                    max_depth=3,\n",
        "                    filled=True)\n",
        "graphviz.Source(g)"
      ],
      "execution_count": 16,
      "outputs": [
        {
          "output_type": "execute_result",
          "data": {
            "text/plain": [
              "<graphviz.files.Source at 0x7f9b36ad5b38>"
            ],
            "image/svg+xml": "<?xml version=\"1.0\" encoding=\"UTF-8\" standalone=\"no\"?>\n<!DOCTYPE svg PUBLIC \"-//W3C//DTD SVG 1.1//EN\"\n \"http://www.w3.org/Graphics/SVG/1.1/DTD/svg11.dtd\">\n<!-- Generated by graphviz version 2.40.1 (20161225.0304)\n -->\n<!-- Title: Tree Pages: 1 -->\n<svg width=\"1070pt\" height=\"460pt\"\n viewBox=\"0.00 0.00 1069.50 460.00\" xmlns=\"http://www.w3.org/2000/svg\" xmlns:xlink=\"http://www.w3.org/1999/xlink\">\n<g id=\"graph0\" class=\"graph\" transform=\"scale(1 1) rotate(0) translate(4 456)\">\n<title>Tree</title>\n<polygon fill=\"#ffffff\" stroke=\"transparent\" points=\"-4,4 -4,-456 1065.5,-456 1065.5,4 -4,4\"/>\n<!-- 0 -->\n<g id=\"node1\" class=\"node\">\n<title>0</title>\n<polygon fill=\"#f5cfb4\" stroke=\"#000000\" points=\"588,-452 488,-452 488,-384 588,-384 588,-452\"/>\n<text text-anchor=\"middle\" x=\"538\" y=\"-436.8\" font-family=\"Times,serif\" font-size=\"14.00\" fill=\"#000000\">RM &lt;= 6.941</text>\n<text text-anchor=\"middle\" x=\"538\" y=\"-421.8\" font-family=\"Times,serif\" font-size=\"14.00\" fill=\"#000000\">mse = 84.019</text>\n<text text-anchor=\"middle\" x=\"538\" y=\"-406.8\" font-family=\"Times,serif\" font-size=\"14.00\" fill=\"#000000\">samples = 455</text>\n<text text-anchor=\"middle\" x=\"538\" y=\"-391.8\" font-family=\"Times,serif\" font-size=\"14.00\" fill=\"#000000\">value = 22.53</text>\n</g>\n<!-- 1 -->\n<g id=\"node2\" class=\"node\">\n<title>1</title>\n<polygon fill=\"#f7d7c0\" stroke=\"#000000\" points=\"529,-348 419,-348 419,-280 529,-280 529,-348\"/>\n<text text-anchor=\"middle\" x=\"474\" y=\"-332.8\" font-family=\"Times,serif\" font-size=\"14.00\" fill=\"#000000\">LSTAT &lt;= 14.4</text>\n<text text-anchor=\"middle\" x=\"474\" y=\"-317.8\" font-family=\"Times,serif\" font-size=\"14.00\" fill=\"#000000\">mse = 36.928</text>\n<text text-anchor=\"middle\" x=\"474\" y=\"-302.8\" font-family=\"Times,serif\" font-size=\"14.00\" fill=\"#000000\">samples = 386</text>\n<text text-anchor=\"middle\" x=\"474\" y=\"-287.8\" font-family=\"Times,serif\" font-size=\"14.00\" fill=\"#000000\">value = 19.862</text>\n</g>\n<!-- 0&#45;&gt;1 -->\n<g id=\"edge1\" class=\"edge\">\n<title>0&#45;&gt;1</title>\n<path fill=\"none\" stroke=\"#000000\" d=\"M517.044,-383.9465C511.6845,-375.2373 505.8539,-365.7626 500.2647,-356.6801\"/>\n<polygon fill=\"#000000\" stroke=\"#000000\" points=\"503.2249,-354.8122 495.0031,-348.13 497.2633,-358.481 503.2249,-354.8122\"/>\n<text text-anchor=\"middle\" x=\"489.2126\" y=\"-368.7502\" font-family=\"Times,serif\" font-size=\"14.00\" fill=\"#000000\">True</text>\n</g>\n<!-- 96 -->\n<g id=\"node17\" class=\"node\">\n<title>96</title>\n<polygon fill=\"#eca571\" stroke=\"#000000\" points=\"716,-348 612,-348 612,-280 716,-280 716,-348\"/>\n<text text-anchor=\"middle\" x=\"664\" y=\"-332.8\" font-family=\"Times,serif\" font-size=\"14.00\" fill=\"#000000\">RM &lt;= 7.437</text>\n<text text-anchor=\"middle\" x=\"664\" y=\"-317.8\" font-family=\"Times,serif\" font-size=\"14.00\" fill=\"#000000\">mse = 84.919</text>\n<text text-anchor=\"middle\" x=\"664\" y=\"-302.8\" font-family=\"Times,serif\" font-size=\"14.00\" fill=\"#000000\">samples = 69</text>\n<text text-anchor=\"middle\" x=\"664\" y=\"-287.8\" font-family=\"Times,serif\" font-size=\"14.00\" fill=\"#000000\">value = 37.454</text>\n</g>\n<!-- 0&#45;&gt;96 -->\n<g id=\"edge16\" class=\"edge\">\n<title>0&#45;&gt;96</title>\n<path fill=\"none\" stroke=\"#000000\" d=\"M579.2571,-383.9465C590.5701,-374.6088 602.9492,-364.3911 614.6658,-354.7203\"/>\n<polygon fill=\"#000000\" stroke=\"#000000\" points=\"617.1659,-357.195 622.6502,-348.13 612.71,-351.7964 617.1659,-357.195\"/>\n<text text-anchor=\"middle\" x=\"620.2698\" y=\"-369.3164\" font-family=\"Times,serif\" font-size=\"14.00\" fill=\"#000000\">False</text>\n</g>\n<!-- 2 -->\n<g id=\"node3\" class=\"node\">\n<title>2</title>\n<polygon fill=\"#f5ceb2\" stroke=\"#000000\" points=\"291,-244 173,-244 173,-176 291,-176 291,-244\"/>\n<text text-anchor=\"middle\" x=\"232\" y=\"-228.8\" font-family=\"Times,serif\" font-size=\"14.00\" fill=\"#000000\">LSTAT &lt;= 7.685</text>\n<text text-anchor=\"middle\" x=\"232\" y=\"-213.8\" font-family=\"Times,serif\" font-size=\"14.00\" fill=\"#000000\">mse = 21.122</text>\n<text text-anchor=\"middle\" x=\"232\" y=\"-198.8\" font-family=\"Times,serif\" font-size=\"14.00\" fill=\"#000000\">samples = 235</text>\n<text text-anchor=\"middle\" x=\"232\" y=\"-183.8\" font-family=\"Times,serif\" font-size=\"14.00\" fill=\"#000000\">value = 23.106</text>\n</g>\n<!-- 1&#45;&gt;2 -->\n<g id=\"edge2\" class=\"edge\">\n<title>1&#45;&gt;2</title>\n<path fill=\"none\" stroke=\"#000000\" d=\"M418.7836,-290.2707C383.6755,-275.1828 337.9516,-255.5329 300.531,-239.4513\"/>\n<polygon fill=\"#000000\" stroke=\"#000000\" points=\"301.7772,-236.1774 291.2077,-235.4446 299.0133,-242.6087 301.7772,-236.1774\"/>\n</g>\n<!-- 37 -->\n<g id=\"node10\" class=\"node\">\n<title>37</title>\n<polygon fill=\"#fae5d7\" stroke=\"#000000\" points=\"529.5,-244 418.5,-244 418.5,-176 529.5,-176 529.5,-244\"/>\n<text text-anchor=\"middle\" x=\"474\" y=\"-228.8\" font-family=\"Times,serif\" font-size=\"14.00\" fill=\"#000000\">CRIM &lt;= 5.782</text>\n<text text-anchor=\"middle\" x=\"474\" y=\"-213.8\" font-family=\"Times,serif\" font-size=\"14.00\" fill=\"#000000\">mse = 19.659</text>\n<text text-anchor=\"middle\" x=\"474\" y=\"-198.8\" font-family=\"Times,serif\" font-size=\"14.00\" fill=\"#000000\">samples = 151</text>\n<text text-anchor=\"middle\" x=\"474\" y=\"-183.8\" font-family=\"Times,serif\" font-size=\"14.00\" fill=\"#000000\">value = 14.813</text>\n</g>\n<!-- 1&#45;&gt;37 -->\n<g id=\"edge9\" class=\"edge\">\n<title>1&#45;&gt;37</title>\n<path fill=\"none\" stroke=\"#000000\" d=\"M474,-279.9465C474,-271.776 474,-262.9318 474,-254.3697\"/>\n<polygon fill=\"#000000\" stroke=\"#000000\" points=\"477.5001,-254.13 474,-244.13 470.5001,-254.13 477.5001,-254.13\"/>\n</g>\n<!-- 3 -->\n<g id=\"node4\" class=\"node\">\n<title>3</title>\n<polygon fill=\"#f3c5a3\" stroke=\"#000000\" points=\"151,-140 47,-140 47,-72 151,-72 151,-140\"/>\n<text text-anchor=\"middle\" x=\"99\" y=\"-124.8\" font-family=\"Times,serif\" font-size=\"14.00\" fill=\"#000000\">DIS &lt;= 1.473</text>\n<text text-anchor=\"middle\" x=\"99\" y=\"-109.8\" font-family=\"Times,serif\" font-size=\"14.00\" fill=\"#000000\">mse = 18.464</text>\n<text text-anchor=\"middle\" x=\"99\" y=\"-94.8\" font-family=\"Times,serif\" font-size=\"14.00\" fill=\"#000000\">samples = 81</text>\n<text text-anchor=\"middle\" x=\"99\" y=\"-79.8\" font-family=\"Times,serif\" font-size=\"14.00\" fill=\"#000000\">value = 26.241</text>\n</g>\n<!-- 2&#45;&gt;3 -->\n<g id=\"edge3\" class=\"edge\">\n<title>2&#45;&gt;3</title>\n<path fill=\"none\" stroke=\"#000000\" d=\"M188.4508,-175.9465C176.3946,-166.519 163.1911,-156.1946 150.7184,-146.4415\"/>\n<polygon fill=\"#000000\" stroke=\"#000000\" points=\"152.6806,-143.5328 142.647,-140.13 148.3686,-149.0471 152.6806,-143.5328\"/>\n</g>\n<!-- 20 -->\n<g id=\"node7\" class=\"node\">\n<title>20</title>\n<polygon fill=\"#f6d2b9\" stroke=\"#000000\" points=\"284,-140 180,-140 180,-72 284,-72 284,-140\"/>\n<text text-anchor=\"middle\" x=\"232\" y=\"-124.8\" font-family=\"Times,serif\" font-size=\"14.00\" fill=\"#000000\">DIS &lt;= 1.207</text>\n<text text-anchor=\"middle\" x=\"232\" y=\"-109.8\" font-family=\"Times,serif\" font-size=\"14.00\" fill=\"#000000\">mse = 14.633</text>\n<text text-anchor=\"middle\" x=\"232\" y=\"-94.8\" font-family=\"Times,serif\" font-size=\"14.00\" fill=\"#000000\">samples = 154</text>\n<text text-anchor=\"middle\" x=\"232\" y=\"-79.8\" font-family=\"Times,serif\" font-size=\"14.00\" fill=\"#000000\">value = 21.457</text>\n</g>\n<!-- 2&#45;&gt;20 -->\n<g id=\"edge6\" class=\"edge\">\n<title>2&#45;&gt;20</title>\n<path fill=\"none\" stroke=\"#000000\" d=\"M232,-175.9465C232,-167.776 232,-158.9318 232,-150.3697\"/>\n<polygon fill=\"#000000\" stroke=\"#000000\" points=\"235.5001,-150.13 232,-140.13 228.5001,-150.13 235.5001,-150.13\"/>\n</g>\n<!-- 4 -->\n<g id=\"node5\" class=\"node\">\n<title>4</title>\n<polygon fill=\"#c0c0c0\" stroke=\"#000000\" points=\"54,-36 0,-36 0,0 54,0 54,-36\"/>\n<text text-anchor=\"middle\" x=\"27\" y=\"-14.3\" font-family=\"Times,serif\" font-size=\"14.00\" fill=\"#000000\">(...)</text>\n</g>\n<!-- 3&#45;&gt;4 -->\n<g id=\"edge4\" class=\"edge\">\n<title>3&#45;&gt;4</title>\n<path fill=\"none\" stroke=\"#000000\" d=\"M71.1629,-71.9769C63.6059,-62.7406 55.5424,-52.8851 48.4014,-44.1573\"/>\n<polygon fill=\"#000000\" stroke=\"#000000\" points=\"50.9256,-41.7152 41.8843,-36.192 45.5079,-46.1479 50.9256,-41.7152\"/>\n</g>\n<!-- 5 -->\n<g id=\"node6\" class=\"node\">\n<title>5</title>\n<polygon fill=\"#c0c0c0\" stroke=\"#000000\" points=\"126,-36 72,-36 72,0 126,0 126,-36\"/>\n<text text-anchor=\"middle\" x=\"99\" y=\"-14.3\" font-family=\"Times,serif\" font-size=\"14.00\" fill=\"#000000\">(...)</text>\n</g>\n<!-- 3&#45;&gt;5 -->\n<g id=\"edge5\" class=\"edge\">\n<title>3&#45;&gt;5</title>\n<path fill=\"none\" stroke=\"#000000\" d=\"M99,-71.9769C99,-63.5023 99,-54.5065 99,-46.3388\"/>\n<polygon fill=\"#000000\" stroke=\"#000000\" points=\"102.5001,-46.1919 99,-36.192 95.5001,-46.192 102.5001,-46.1919\"/>\n</g>\n<!-- 21 -->\n<g id=\"node8\" class=\"node\">\n<title>21</title>\n<polygon fill=\"#c0c0c0\" stroke=\"#000000\" points=\"198,-36 144,-36 144,0 198,0 198,-36\"/>\n<text text-anchor=\"middle\" x=\"171\" y=\"-14.3\" font-family=\"Times,serif\" font-size=\"14.00\" fill=\"#000000\">(...)</text>\n</g>\n<!-- 20&#45;&gt;21 -->\n<g id=\"edge7\" class=\"edge\">\n<title>20&#45;&gt;21</title>\n<path fill=\"none\" stroke=\"#000000\" d=\"M208.4158,-71.9769C202.0794,-62.8358 195.3225,-53.0883 189.3191,-44.4276\"/>\n<polygon fill=\"#000000\" stroke=\"#000000\" points=\"192.1838,-42.4166 183.6103,-36.192 186.4308,-46.4045 192.1838,-42.4166\"/>\n</g>\n<!-- 22 -->\n<g id=\"node9\" class=\"node\">\n<title>22</title>\n<polygon fill=\"#c0c0c0\" stroke=\"#000000\" points=\"270,-36 216,-36 216,0 270,0 270,-36\"/>\n<text text-anchor=\"middle\" x=\"243\" y=\"-14.3\" font-family=\"Times,serif\" font-size=\"14.00\" fill=\"#000000\">(...)</text>\n</g>\n<!-- 20&#45;&gt;22 -->\n<g id=\"edge8\" class=\"edge\">\n<title>20&#45;&gt;22</title>\n<path fill=\"none\" stroke=\"#000000\" d=\"M236.2529,-71.9769C237.3122,-63.5023 238.4367,-54.5065 239.4577,-46.3388\"/>\n<polygon fill=\"#000000\" stroke=\"#000000\" points=\"242.9585,-46.5489 240.726,-36.192 236.0126,-45.6806 242.9585,-46.5489\"/>\n</g>\n<!-- 38 -->\n<g id=\"node11\" class=\"node\">\n<title>38</title>\n<polygon fill=\"#f8decb\" stroke=\"#000000\" points=\"427,-140 323,-140 323,-72 427,-72 427,-140\"/>\n<text text-anchor=\"middle\" x=\"375\" y=\"-124.8\" font-family=\"Times,serif\" font-size=\"14.00\" fill=\"#000000\">AGE &lt;= 73.3</text>\n<text text-anchor=\"middle\" x=\"375\" y=\"-109.8\" font-family=\"Times,serif\" font-size=\"14.00\" fill=\"#000000\">mse = 12.14</text>\n<text text-anchor=\"middle\" x=\"375\" y=\"-94.8\" font-family=\"Times,serif\" font-size=\"14.00\" fill=\"#000000\">samples = 84</text>\n<text text-anchor=\"middle\" x=\"375\" y=\"-79.8\" font-family=\"Times,serif\" font-size=\"14.00\" fill=\"#000000\">value = 17.319</text>\n</g>\n<!-- 37&#45;&gt;38 -->\n<g id=\"edge10\" class=\"edge\">\n<title>37&#45;&gt;38</title>\n<path fill=\"none\" stroke=\"#000000\" d=\"M441.5837,-175.9465C432.9514,-166.8782 423.5289,-156.9799 414.5605,-147.5585\"/>\n<polygon fill=\"#000000\" stroke=\"#000000\" points=\"416.919,-144.9599 407.4891,-140.13 411.8489,-149.7863 416.919,-144.9599\"/>\n</g>\n<!-- 69 -->\n<g id=\"node14\" class=\"node\">\n<title>69</title>\n<polygon fill=\"#fceee5\" stroke=\"#000000\" points=\"563,-140 445,-140 445,-72 563,-72 563,-140\"/>\n<text text-anchor=\"middle\" x=\"504\" y=\"-124.8\" font-family=\"Times,serif\" font-size=\"14.00\" fill=\"#000000\">LSTAT &lt;= 19.73</text>\n<text text-anchor=\"middle\" x=\"504\" y=\"-109.8\" font-family=\"Times,serif\" font-size=\"14.00\" fill=\"#000000\">mse = 11.345</text>\n<text text-anchor=\"middle\" x=\"504\" y=\"-94.8\" font-family=\"Times,serif\" font-size=\"14.00\" fill=\"#000000\">samples = 67</text>\n<text text-anchor=\"middle\" x=\"504\" y=\"-79.8\" font-family=\"Times,serif\" font-size=\"14.00\" fill=\"#000000\">value = 11.672</text>\n</g>\n<!-- 37&#45;&gt;69 -->\n<g id=\"edge13\" class=\"edge\">\n<title>37&#45;&gt;69</title>\n<path fill=\"none\" stroke=\"#000000\" d=\"M483.8231,-175.9465C486.2318,-167.5965 488.8434,-158.5427 491.3638,-149.8056\"/>\n<polygon fill=\"#000000\" stroke=\"#000000\" points=\"494.746,-150.7083 494.1548,-140.13 488.0202,-148.7681 494.746,-150.7083\"/>\n</g>\n<!-- 39 -->\n<g id=\"node12\" class=\"node\">\n<title>39</title>\n<polygon fill=\"#c0c0c0\" stroke=\"#000000\" points=\"342,-36 288,-36 288,0 342,0 342,-36\"/>\n<text text-anchor=\"middle\" x=\"315\" y=\"-14.3\" font-family=\"Times,serif\" font-size=\"14.00\" fill=\"#000000\">(...)</text>\n</g>\n<!-- 38&#45;&gt;39 -->\n<g id=\"edge11\" class=\"edge\">\n<title>38&#45;&gt;39</title>\n<path fill=\"none\" stroke=\"#000000\" d=\"M351.8024,-71.9769C345.6348,-62.931 339.0622,-53.2913 333.2036,-44.6986\"/>\n<polygon fill=\"#000000\" stroke=\"#000000\" points=\"335.9288,-42.4825 327.4036,-36.192 330.1452,-46.4259 335.9288,-42.4825\"/>\n</g>\n<!-- 54 -->\n<g id=\"node13\" class=\"node\">\n<title>54</title>\n<polygon fill=\"#c0c0c0\" stroke=\"#000000\" points=\"414,-36 360,-36 360,0 414,0 414,-36\"/>\n<text text-anchor=\"middle\" x=\"387\" y=\"-14.3\" font-family=\"Times,serif\" font-size=\"14.00\" fill=\"#000000\">(...)</text>\n</g>\n<!-- 38&#45;&gt;54 -->\n<g id=\"edge12\" class=\"edge\">\n<title>38&#45;&gt;54</title>\n<path fill=\"none\" stroke=\"#000000\" d=\"M379.6395,-71.9769C380.7951,-63.5023 382.0218,-54.5065 383.1356,-46.3388\"/>\n<polygon fill=\"#000000\" stroke=\"#000000\" points=\"386.636,-46.5732 384.5193,-36.192 379.7002,-45.6273 386.636,-46.5732\"/>\n</g>\n<!-- 70 -->\n<g id=\"node15\" class=\"node\">\n<title>70</title>\n<polygon fill=\"#c0c0c0\" stroke=\"#000000\" points=\"486,-36 432,-36 432,0 486,0 486,-36\"/>\n<text text-anchor=\"middle\" x=\"459\" y=\"-14.3\" font-family=\"Times,serif\" font-size=\"14.00\" fill=\"#000000\">(...)</text>\n</g>\n<!-- 69&#45;&gt;70 -->\n<g id=\"edge14\" class=\"edge\">\n<title>69&#45;&gt;70</title>\n<path fill=\"none\" stroke=\"#000000\" d=\"M486.6018,-71.9769C482.0735,-63.1215 477.2541,-53.6969 472.9309,-45.2427\"/>\n<polygon fill=\"#000000\" stroke=\"#000000\" points=\"475.9719,-43.5019 468.3027,-36.192 469.7394,-46.6889 475.9719,-43.5019\"/>\n</g>\n<!-- 81 -->\n<g id=\"node16\" class=\"node\">\n<title>81</title>\n<polygon fill=\"#c0c0c0\" stroke=\"#000000\" points=\"558,-36 504,-36 504,0 558,0 558,-36\"/>\n<text text-anchor=\"middle\" x=\"531\" y=\"-14.3\" font-family=\"Times,serif\" font-size=\"14.00\" fill=\"#000000\">(...)</text>\n</g>\n<!-- 69&#45;&gt;81 -->\n<g id=\"edge15\" class=\"edge\">\n<title>69&#45;&gt;81</title>\n<path fill=\"none\" stroke=\"#000000\" d=\"M514.4389,-71.9769C517.0975,-63.3119 519.9233,-54.102 522.4737,-45.7894\"/>\n<polygon fill=\"#000000\" stroke=\"#000000\" points=\"525.8311,-46.7787 525.4184,-36.192 519.139,-44.7254 525.8311,-46.7787\"/>\n</g>\n<!-- 97 -->\n<g id=\"node18\" class=\"node\">\n<title>97</title>\n<polygon fill=\"#f0b489\" stroke=\"#000000\" points=\"719.5,-244 608.5,-244 608.5,-176 719.5,-176 719.5,-244\"/>\n<text text-anchor=\"middle\" x=\"664\" y=\"-228.8\" font-family=\"Times,serif\" font-size=\"14.00\" fill=\"#000000\">CRIM &lt;= 7.393</text>\n<text text-anchor=\"middle\" x=\"664\" y=\"-213.8\" font-family=\"Times,serif\" font-size=\"14.00\" fill=\"#000000\">mse = 45.746</text>\n<text text-anchor=\"middle\" x=\"664\" y=\"-198.8\" font-family=\"Times,serif\" font-size=\"14.00\" fill=\"#000000\">samples = 41</text>\n<text text-anchor=\"middle\" x=\"664\" y=\"-183.8\" font-family=\"Times,serif\" font-size=\"14.00\" fill=\"#000000\">value = 32.071</text>\n</g>\n<!-- 96&#45;&gt;97 -->\n<g id=\"edge17\" class=\"edge\">\n<title>96&#45;&gt;97</title>\n<path fill=\"none\" stroke=\"#000000\" d=\"M664,-279.9465C664,-271.776 664,-262.9318 664,-254.3697\"/>\n<polygon fill=\"#000000\" stroke=\"#000000\" points=\"667.5001,-254.13 664,-244.13 660.5001,-254.13 667.5001,-254.13\"/>\n</g>\n<!-- 122 -->\n<g id=\"node25\" class=\"node\">\n<title>122</title>\n<polygon fill=\"#e88e4e\" stroke=\"#000000\" points=\"946.5,-244 835.5,-244 835.5,-176 946.5,-176 946.5,-244\"/>\n<text text-anchor=\"middle\" x=\"891\" y=\"-228.8\" font-family=\"Times,serif\" font-size=\"14.00\" fill=\"#000000\">CRIM &lt;= 2.742</text>\n<text text-anchor=\"middle\" x=\"891\" y=\"-213.8\" font-family=\"Times,serif\" font-size=\"14.00\" fill=\"#000000\">mse = 37.723</text>\n<text text-anchor=\"middle\" x=\"891\" y=\"-198.8\" font-family=\"Times,serif\" font-size=\"14.00\" fill=\"#000000\">samples = 28</text>\n<text text-anchor=\"middle\" x=\"891\" y=\"-183.8\" font-family=\"Times,serif\" font-size=\"14.00\" fill=\"#000000\">value = 45.336</text>\n</g>\n<!-- 96&#45;&gt;122 -->\n<g id=\"edge24\" class=\"edge\">\n<title>96&#45;&gt;122</title>\n<path fill=\"none\" stroke=\"#000000\" d=\"M716.0784,-290.1403C748.7612,-275.1667 791.1675,-255.7383 826.0408,-239.7611\"/>\n<polygon fill=\"#000000\" stroke=\"#000000\" points=\"827.5635,-242.9133 835.197,-235.5661 824.6479,-236.5494 827.5635,-242.9133\"/>\n</g>\n<!-- 98 -->\n<g id=\"node19\" class=\"node\">\n<title>98</title>\n<polygon fill=\"#efb083\" stroke=\"#000000\" points=\"687,-140 583,-140 583,-72 687,-72 687,-140\"/>\n<text text-anchor=\"middle\" x=\"635\" y=\"-124.8\" font-family=\"Times,serif\" font-size=\"14.00\" fill=\"#000000\">DIS &lt;= 1.886</text>\n<text text-anchor=\"middle\" x=\"635\" y=\"-109.8\" font-family=\"Times,serif\" font-size=\"14.00\" fill=\"#000000\">mse = 22.025</text>\n<text text-anchor=\"middle\" x=\"635\" y=\"-94.8\" font-family=\"Times,serif\" font-size=\"14.00\" fill=\"#000000\">samples = 38</text>\n<text text-anchor=\"middle\" x=\"635\" y=\"-79.8\" font-family=\"Times,serif\" font-size=\"14.00\" fill=\"#000000\">value = 33.466</text>\n</g>\n<!-- 97&#45;&gt;98 -->\n<g id=\"edge18\" class=\"edge\">\n<title>97&#45;&gt;98</title>\n<path fill=\"none\" stroke=\"#000000\" d=\"M654.5043,-175.9465C652.1759,-167.5965 649.6513,-158.5427 647.215,-149.8056\"/>\n<polygon fill=\"#000000\" stroke=\"#000000\" points=\"650.5745,-148.8224 644.517,-140.13 643.8317,-150.7026 650.5745,-148.8224\"/>\n</g>\n<!-- 117 -->\n<g id=\"node22\" class=\"node\">\n<title>117</title>\n<polygon fill=\"#fae7d9\" stroke=\"#000000\" points=\"802.5,-140 705.5,-140 705.5,-72 802.5,-72 802.5,-140\"/>\n<text text-anchor=\"middle\" x=\"754\" y=\"-124.8\" font-family=\"Times,serif\" font-size=\"14.00\" fill=\"#000000\">RM &lt;= 7.141</text>\n<text text-anchor=\"middle\" x=\"754\" y=\"-109.8\" font-family=\"Times,serif\" font-size=\"14.00\" fill=\"#000000\">mse = 9.307</text>\n<text text-anchor=\"middle\" x=\"754\" y=\"-94.8\" font-family=\"Times,serif\" font-size=\"14.00\" fill=\"#000000\">samples = 3</text>\n<text text-anchor=\"middle\" x=\"754\" y=\"-79.8\" font-family=\"Times,serif\" font-size=\"14.00\" fill=\"#000000\">value = 14.4</text>\n</g>\n<!-- 97&#45;&gt;117 -->\n<g id=\"edge21\" class=\"edge\">\n<title>97&#45;&gt;117</title>\n<path fill=\"none\" stroke=\"#000000\" d=\"M693.4694,-175.9465C701.2393,-166.968 709.7132,-157.1758 717.7936,-147.8385\"/>\n<polygon fill=\"#000000\" stroke=\"#000000\" points=\"720.5672,-149.982 724.4644,-140.13 715.274,-145.4014 720.5672,-149.982\"/>\n</g>\n<!-- 99 -->\n<g id=\"node20\" class=\"node\">\n<title>99</title>\n<polygon fill=\"#c0c0c0\" stroke=\"#000000\" points=\"630,-36 576,-36 576,0 630,0 630,-36\"/>\n<text text-anchor=\"middle\" x=\"603\" y=\"-14.3\" font-family=\"Times,serif\" font-size=\"14.00\" fill=\"#000000\">(...)</text>\n</g>\n<!-- 98&#45;&gt;99 -->\n<g id=\"edge19\" class=\"edge\">\n<title>98&#45;&gt;99</title>\n<path fill=\"none\" stroke=\"#000000\" d=\"M622.628,-71.9769C619.4771,-63.3119 616.128,-54.102 613.1052,-45.7894\"/>\n<polygon fill=\"#000000\" stroke=\"#000000\" points=\"616.322,-44.3938 609.6153,-36.192 609.7435,-46.786 616.322,-44.3938\"/>\n</g>\n<!-- 102 -->\n<g id=\"node21\" class=\"node\">\n<title>102</title>\n<polygon fill=\"#c0c0c0\" stroke=\"#000000\" points=\"702,-36 648,-36 648,0 702,0 702,-36\"/>\n<text text-anchor=\"middle\" x=\"675\" y=\"-14.3\" font-family=\"Times,serif\" font-size=\"14.00\" fill=\"#000000\">(...)</text>\n</g>\n<!-- 98&#45;&gt;102 -->\n<g id=\"edge20\" class=\"edge\">\n<title>98&#45;&gt;102</title>\n<path fill=\"none\" stroke=\"#000000\" d=\"M650.465,-71.9769C654.447,-63.2167 658.682,-53.8995 662.4929,-45.5157\"/>\n<polygon fill=\"#000000\" stroke=\"#000000\" points=\"665.7791,-46.744 666.7309,-36.192 659.4066,-43.8473 665.7791,-46.744\"/>\n</g>\n<!-- 118 -->\n<g id=\"node23\" class=\"node\">\n<title>118</title>\n<polygon fill=\"#c0c0c0\" stroke=\"#000000\" points=\"774,-36 720,-36 720,0 774,0 774,-36\"/>\n<text text-anchor=\"middle\" x=\"747\" y=\"-14.3\" font-family=\"Times,serif\" font-size=\"14.00\" fill=\"#000000\">(...)</text>\n</g>\n<!-- 117&#45;&gt;118 -->\n<g id=\"edge22\" class=\"edge\">\n<title>117&#45;&gt;118</title>\n<path fill=\"none\" stroke=\"#000000\" d=\"M751.2936,-71.9769C750.6195,-63.5023 749.9039,-54.5065 749.2542,-46.3388\"/>\n<polygon fill=\"#000000\" stroke=\"#000000\" points=\"752.7291,-45.8829 748.4471,-36.192 745.7511,-46.438 752.7291,-45.8829\"/>\n</g>\n<!-- 119 -->\n<g id=\"node24\" class=\"node\">\n<title>119</title>\n<polygon fill=\"#c0c0c0\" stroke=\"#000000\" points=\"846,-36 792,-36 792,0 846,0 846,-36\"/>\n<text text-anchor=\"middle\" x=\"819\" y=\"-14.3\" font-family=\"Times,serif\" font-size=\"14.00\" fill=\"#000000\">(...)</text>\n</g>\n<!-- 117&#45;&gt;119 -->\n<g id=\"edge23\" class=\"edge\">\n<title>117&#45;&gt;119</title>\n<path fill=\"none\" stroke=\"#000000\" d=\"M779.1307,-71.9769C785.8826,-62.8358 793.0825,-53.0883 799.4796,-44.4276\"/>\n<polygon fill=\"#000000\" stroke=\"#000000\" points=\"802.4367,-46.3151 805.5628,-36.192 796.8061,-42.1561 802.4367,-46.3151\"/>\n</g>\n<!-- 123 -->\n<g id=\"node26\" class=\"node\">\n<title>123</title>\n<polygon fill=\"#e78c4a\" stroke=\"#000000\" points=\"954.5,-140 827.5,-140 827.5,-72 954.5,-72 954.5,-140\"/>\n<text text-anchor=\"middle\" x=\"891\" y=\"-124.8\" font-family=\"Times,serif\" font-size=\"14.00\" fill=\"#000000\">PTRATIO &lt;= 14.8</text>\n<text text-anchor=\"middle\" x=\"891\" y=\"-109.8\" font-family=\"Times,serif\" font-size=\"14.00\" fill=\"#000000\">mse = 18.025</text>\n<text text-anchor=\"middle\" x=\"891\" y=\"-94.8\" font-family=\"Times,serif\" font-size=\"14.00\" fill=\"#000000\">samples = 27</text>\n<text text-anchor=\"middle\" x=\"891\" y=\"-79.8\" font-family=\"Times,serif\" font-size=\"14.00\" fill=\"#000000\">value = 46.204</text>\n</g>\n<!-- 122&#45;&gt;123 -->\n<g id=\"edge25\" class=\"edge\">\n<title>122&#45;&gt;123</title>\n<path fill=\"none\" stroke=\"#000000\" d=\"M891,-175.9465C891,-167.776 891,-158.9318 891,-150.3697\"/>\n<polygon fill=\"#000000\" stroke=\"#000000\" points=\"894.5001,-150.13 891,-140.13 887.5001,-150.13 894.5001,-150.13\"/>\n</g>\n<!-- 146 -->\n<g id=\"node29\" class=\"node\">\n<title>146</title>\n<polygon fill=\"#f6d1b7\" stroke=\"#000000\" points=\"1061.5,-132.5 972.5,-132.5 972.5,-79.5 1061.5,-79.5 1061.5,-132.5\"/>\n<text text-anchor=\"middle\" x=\"1017\" y=\"-117.3\" font-family=\"Times,serif\" font-size=\"14.00\" fill=\"#000000\">mse = &#45;0.0</text>\n<text text-anchor=\"middle\" x=\"1017\" y=\"-102.3\" font-family=\"Times,serif\" font-size=\"14.00\" fill=\"#000000\">samples = 1</text>\n<text text-anchor=\"middle\" x=\"1017\" y=\"-87.3\" font-family=\"Times,serif\" font-size=\"14.00\" fill=\"#000000\">value = 21.9</text>\n</g>\n<!-- 122&#45;&gt;146 -->\n<g id=\"edge28\" class=\"edge\">\n<title>122&#45;&gt;146</title>\n<path fill=\"none\" stroke=\"#000000\" d=\"M932.2571,-175.9465C946.6697,-164.0504 962.8127,-150.726 977.1117,-138.9237\"/>\n<polygon fill=\"#000000\" stroke=\"#000000\" points=\"979.3589,-141.6071 984.8431,-132.5422 974.9029,-136.2086 979.3589,-141.6071\"/>\n</g>\n<!-- 124 -->\n<g id=\"node27\" class=\"node\">\n<title>124</title>\n<polygon fill=\"#c0c0c0\" stroke=\"#000000\" points=\"918,-36 864,-36 864,0 918,0 918,-36\"/>\n<text text-anchor=\"middle\" x=\"891\" y=\"-14.3\" font-family=\"Times,serif\" font-size=\"14.00\" fill=\"#000000\">(...)</text>\n</g>\n<!-- 123&#45;&gt;124 -->\n<g id=\"edge26\" class=\"edge\">\n<title>123&#45;&gt;124</title>\n<path fill=\"none\" stroke=\"#000000\" d=\"M891,-71.9769C891,-63.5023 891,-54.5065 891,-46.3388\"/>\n<polygon fill=\"#000000\" stroke=\"#000000\" points=\"894.5001,-46.1919 891,-36.192 887.5001,-46.192 894.5001,-46.1919\"/>\n</g>\n<!-- 135 -->\n<g id=\"node28\" class=\"node\">\n<title>135</title>\n<polygon fill=\"#c0c0c0\" stroke=\"#000000\" points=\"990,-36 936,-36 936,0 990,0 990,-36\"/>\n<text text-anchor=\"middle\" x=\"963\" y=\"-14.3\" font-family=\"Times,serif\" font-size=\"14.00\" fill=\"#000000\">(...)</text>\n</g>\n<!-- 123&#45;&gt;135 -->\n<g id=\"edge27\" class=\"edge\">\n<title>123&#45;&gt;135</title>\n<path fill=\"none\" stroke=\"#000000\" d=\"M918.8371,-71.9769C926.3941,-62.7406 934.4576,-52.8851 941.5986,-44.1573\"/>\n<polygon fill=\"#000000\" stroke=\"#000000\" points=\"944.4921,-46.1479 948.1157,-36.192 939.0744,-41.7152 944.4921,-46.1479\"/>\n</g>\n</g>\n</svg>\n"
          },
          "metadata": {
            "tags": []
          },
          "execution_count": 16
        }
      ]
    },
    {
      "cell_type": "code",
      "metadata": {
        "id": "IK_NobOlj8GY",
        "colab_type": "code",
        "colab": {
          "base_uri": "https://localhost:8080/",
          "height": 35
        },
        "outputId": "a2b287f9-bb97-4cc4-c9db-66efca0d8f71"
      },
      "source": [
        "from sklearn.metrics import r2_score\n",
        "pre = reg.predict(x_test)\n",
        "r2_score(y_test, pre)"
      ],
      "execution_count": 15,
      "outputs": [
        {
          "output_type": "execute_result",
          "data": {
            "text/plain": [
              "0.8683932806696218"
            ]
          },
          "metadata": {
            "tags": []
          },
          "execution_count": 15
        }
      ]
    }
  ]
}